{
 "cells": [
  {
   "cell_type": "markdown",
   "metadata": {},
   "source": [
    "# Lab 04 - Functional Decomposition\n",
    "**COMP130 - Introduction to Computing**  \n",
    "**Dickinson College**  "
   ]
  },
  {
   "cell_type": "markdown",
   "metadata": {},
   "source": [
    "### Names:"
   ]
  },
  {
   "cell_type": "markdown",
   "metadata": {},
   "source": []
  },
  {
   "cell_type": "markdown",
   "metadata": {},
   "source": [
    "### Introduction"
   ]
  },
  {
   "cell_type": "markdown",
   "metadata": {},
   "source": [
    "When learning about user defined functions we identified four significant benefits provided by the use of functions in programs.  These were:\n",
    "\n",
    " - Readability\n",
    " - Maintainability\n",
    " - Problem Solving\n",
    " - Reusability\n",
    " \n",
    "In this lab you'll be gaining additional experience with user defined functions and how they provide each of these benefits."
   ]
  },
  {
   "cell_type": "markdown",
   "metadata": {},
   "source": [
    "### A House Function"
   ]
  },
  {
   "cell_type": "markdown",
   "metadata": {},
   "source": [
    "The program below uses a single function to draw a very simple house.  Run this program to see the result."
   ]
  },
  {
   "cell_type": "code",
   "execution_count": 5,
   "metadata": {},
   "outputs": [],
   "source": [
    "from graphics import *    \n",
    "\n",
    "def draw_house(win):\n",
    "  building=Rectangle(Point(100,350),Point(200,300))\n",
    "  building.setFill('brown3')\n",
    "  building.draw(win)\n",
    "\n",
    "  roof=Polygon(Point(80,300), Point(220,300), Point(150,250))\n",
    "  roof.setFill('gray50')\n",
    "  roof.draw(win)\n",
    "\n",
    "main_win=GraphWin('picture',600,400)\n",
    "draw_house(main_win)\n",
    "main_win.getKey()\n",
    "main_win.close()"
   ]
  },
  {
   "cell_type": "markdown",
   "metadata": {},
   "source": [
    "__Q1:__ Draw a sketch of the house produced by the above program.  For each `Point` object in the code above, place a point on your sketch and label it with the (x,y) coordinate.  Recall that the origin (0,0) of a graphics window is in the upper left and that y increases as you move down the window.  Include a photograph of your sketch with the points labeled as your answer to this question."
   ]
  },
  {
   "cell_type": "markdown",
   "metadata": {},
   "source": []
  },
  {
   "cell_type": "markdown",
   "metadata": {},
   "source": [
    "### A Reusable House Function"
   ]
  },
  {
   "cell_type": "markdown",
   "metadata": {},
   "source": [
    "Since we have a function that draws a house, it might be nice to be able to reuse this function to draw multiple houses at different locations in the window. However, as it is the function always draws the house in the same location.  So calling it multiple times would just draw them one on top of the other.  In the next few questions you will fix this so that the `draw_house` function is more reusable, and can draw houses at different locations."
   ]
  },
  {
   "cell_type": "markdown",
   "metadata": {},
   "source": [
    "__Q2:__ Add a parameter to the `draw_house` function so that it can be passed a `Point` object indicating the location of the lower left corner of the building.  Modify the code in the `draw_house` method so that when the new parameter is passed the house is drawn at the indicated location.\n",
    "\n",
    "For example, the call:\n",
    "\n",
    "```Python\n",
    "draw_house(main_win, Point(100,350)\n",
    "```\n",
    "\n",
    "should draw the house just as it was before.  However, providing a different `Point` should cause it to be drawn in another location."
   ]
  },
  {
   "cell_type": "markdown",
   "metadata": {},
   "source": [
    "__Q3:__ Add statements to your program so that it draws four houses at different locations in the window."
   ]
  },
  {
   "cell_type": "markdown",
   "metadata": {},
   "source": [
    "__Q4:__ Nobody wants all those identical houses in the same neighborhood. At a minimum they should be able to be different colors.  Add another parameter to the `draw_house` function so that the color of the house can be specified when the function is called.  Update the calls to `draw_house` so that the houses are different colors.  Note that there is link to a documents that shows you all of the different colors you can use on the course home page."
   ]
  },
  {
   "cell_type": "markdown",
   "metadata": {},
   "source": [
    "### Enhanced Readability"
   ]
  },
  {
   "cell_type": "markdown",
   "metadata": {},
   "source": [
    "Functions are easiest for humans to read, write, understand and debug when they do just one thing.  On the one hand the `draw_house` function above is doing just one thing - drawing a house.  But to do that it is actually doing the detailed work of two smaller tasks - drawing the building and drawing the roof.  This isn't terrible, but if we were to (and we will) enhance the house, say add a door, windows and a front porch, things would get very messy very quickly.  In anticipation of this we can make the `draw_house` function easier to read by moving the details of the individual features into their own functions. Functions that each do only one thing."
   ]
  },
  {
   "cell_type": "markdown",
   "metadata": {},
   "source": [
    "__Q5:__ Define a `draw_building` function in the program above.  This function should have two parameters one for the lower left `Point` and another for the color.  Move the code that draws the building from the `draw_house` function into the `draw_building` function, making any modifications necessary.  Add a call to the `draw_building` function in the `draw_house` function."
   ]
  },
  {
   "cell_type": "markdown",
   "metadata": {},
   "source": [
    "Your program should still do exactly what it did before.  However, the resulting `draw_house` function is getting shorter, simpler and easier for other humans to read.  Let's take it one step further..."
   ]
  },
  {
   "cell_type": "markdown",
   "metadata": {},
   "source": [
    "__Q6:__ Define another function in the program above that draws the roof of the house and modify the program so that it uses this new function."
   ]
  },
  {
   "cell_type": "markdown",
   "metadata": {},
   "source": [
    "__Q7:__ Your program should still do exactly what it did after finishing __Q4__. But from a readability point of view, your revised program is much better than the original. How can using functions enhance the readability of your programs?"
   ]
  },
  {
   "cell_type": "markdown",
   "metadata": {},
   "source": [
    "__TODO:__ Have the instructor or the TA check your implementation of `draw_house` and initial below before going on."
   ]
  },
  {
   "cell_type": "markdown",
   "metadata": {},
   "source": []
  },
  {
   "cell_type": "markdown",
   "metadata": {},
   "source": [
    "### Enhanced Reusability"
   ]
  },
  {
   "cell_type": "markdown",
   "metadata": {},
   "source": [
    "Not all houses are one story tall like the ones the `draw_house` function currently draws.  What if we wanted to be able to draw two, three or more story tall houses?  With a little thoughts, we can modify our functions just a little bit to make them reusable in this context."
   ]
  },
  {
   "cell_type": "markdown",
   "metadata": {},
   "source": [
    "__Q8:__ Does the function you added for drawing the roof in __Q6__ expect the `Point` that is passed to it to be the lower left coordinate of the house or the lower left coordinate of where the roof should be drawn? "
   ]
  },
  {
   "cell_type": "markdown",
   "metadata": {},
   "source": []
  },
  {
   "cell_type": "markdown",
   "metadata": {},
   "source": [
    "__Q9:__ If your roof drawing function was written assuming its argument indicates the lower left corner of the house modify it, and the calls to it, so that it expects the `Point` to indicate the lower left corner of the roof."
   ]
  },
  {
   "cell_type": "markdown",
   "metadata": {},
   "source": [
    "__Q10:__ Now add a parameter to the `draw_house` function that indicates the number of stories for the house. For each story of the house the building part should be 50 pixels high (e.g. a 3 story house has a building that is 150 pixels high). Modify your `draw_house` function and the functions that it calls so that it draws the house with the correct number of stories. Finally, change the calls to `draw_house` so that one of the houses that your program draws is two stories tall and another is three stories tall."
   ]
  },
  {
   "cell_type": "markdown",
   "metadata": {},
   "source": [
    "__Q11:__ Explain why, having the roof drawing function take a `Point` that indicates the lower left corner of the roof makes this function more reusable."
   ]
  },
  {
   "cell_type": "markdown",
   "metadata": {},
   "source": []
  },
  {
   "cell_type": "markdown",
   "metadata": {},
   "source": [
    "### Script Mode"
   ]
  },
  {
   "cell_type": "markdown",
   "metadata": {},
   "source": [
    "As we saw in Lab03, it can be easier to work with longer programs in *script* mode.  That is, by saving them into a `.py` file and then running them from the Terminal.\n",
    "\n",
    "__Q12:__ Copy the full code for your program into a new text file named __house.py__ in your Lab04 folder and ensure that you can run the __house.py__ program from the Terminal.  You can refer back to Lab03 for a refresher on using the `ls`, `cd` and `python3` commands that are necessary to run a Python program from the Terminal."
   ]
  },
  {
   "cell_type": "markdown",
   "metadata": {},
   "source": [
    "### APIs & Doc Strings"
   ]
  },
  {
   "cell_type": "markdown",
   "metadata": {},
   "source": [
    "Recall that a collection of functions that programmers use to interact with a code library is an *Application Programming Interface (API)*.  It is not hard to imagine that other programs that draw pictures would benefit from reusing the functions you have defined through their API.\n",
    "\n",
    "A well defined API uses descriptive names for the functions and parameters that make it clear to other programmers what the functions do and what the parameters mean. The reason for that is so that you (or other programmers) do not need to dig into the details of how the functions work, but can focus just on what they do.\n",
    "\n",
    "Sometimes the function and parameter names are not descriptive enough and it would become unwieldy to make them so (e.g. naming the `Point` parameter something like `lower_left_corner_point`). Some programmers are tempted to use abbreviations (e.g. `llc_point` or even `llcp`) to shorten the names.  However, it is not always clear what these names mean, and they can be hard to remember.  In these situations it is better to stick with a short, but still descriptive, name (e.g. `location`) and provide the additional information another programmer would need in a *Doc String*. "
   ]
  },
  {
   "cell_type": "markdown",
   "metadata": {},
   "source": [
    "__Q13:__  If necessary, revise the function and parameter names that you have used in your __house.py__ program so that they are descriptive, without being unwieldy.  Which names did you change? What did you change them to?"
   ]
  },
  {
   "cell_type": "markdown",
   "metadata": {},
   "source": []
  },
  {
   "cell_type": "markdown",
   "metadata": {},
   "source": [
    "__Q14:__ Add a Doc String to the `draw_house`, `draw_building` and your roof drawing functions that provides the information another programmer would need to know about those functions."
   ]
  },
  {
   "cell_type": "markdown",
   "metadata": {},
   "source": [
    "### Adding to the House"
   ]
  },
  {
   "cell_type": "markdown",
   "metadata": {},
   "source": [
    "__Q15:__ The house needs a door. Because really, what good is a house if you cannot get inside?  Define a function that draws a door with a door knob.  Your function should be able to draw the door in any location.  Include a Doc String for your function."
   ]
  },
  {
   "cell_type": "markdown",
   "metadata": {},
   "source": [
    "__Q16:__ Modify the `draw_house` function so that each of your houses will have a door centered on the front of the house. "
   ]
  },
  {
   "cell_type": "markdown",
   "metadata": {},
   "source": [
    "__Q17:__ Houses generally have windows! Define a function that draws a square window with a simple cross bar pattern on it.  The function for drawing the window should use appropriate parameters to allow it to be drawn at any location and with a specified size.  Include a Doc String for your function.\n",
    "\n",
    "![Window with cross bar](https://icon-library.net/images/icon-for-window/icon-for-window-1.jpg)\n",
    "[Icon For Window #199847](https://icon-library.net/icon/icon-for-window-1.html) used under [CC0 Licence](https://creativecommons.org/publicdomain/zero/1.0/)."
   ]
  },
  {
   "cell_type": "markdown",
   "metadata": {},
   "source": [
    "### Experiencing Reuse"
   ]
  },
  {
   "cell_type": "markdown",
   "metadata": {},
   "source": [
    "__Q18:__ Modify the `draw_house` function so that two windows appear on the front of every house, on each side of the door.  Note: For now there will only be windows on the first story of the house.  Adding windows on each story is beyond the scope of this lab but we'll get there eventually."
   ]
  },
  {
   "cell_type": "markdown",
   "metadata": {},
   "source": [
    "__Q19:__ Now modify your code so that a smaller window also appears on the door."
   ]
  },
  {
   "cell_type": "markdown",
   "metadata": {},
   "source": [
    "__Q20:__ Adding the windows on the house and the door should have been relatively easy because the function you created for drawing the window was reusable.  What contributed to the reusability of the function that draws the windows?"
   ]
  },
  {
   "cell_type": "markdown",
   "metadata": {},
   "source": []
  },
  {
   "cell_type": "markdown",
   "metadata": {},
   "source": [
    "### Experiencing Maintainability"
   ]
  },
  {
   "cell_type": "markdown",
   "metadata": {},
   "source": [
    "Writing new programs is only part of what software developers do.  Once programs are written and in use, it is quite common for the needs of the users of those programs to change.  When this happens the programs also need to change. These changes include fixing bugs that are discovered, modifying existing features and adding new features. The process of making these changes is called *software maintenance* and it is a big deal. Studies suggest that software maintenance accounts for 60-80% of the time and cost invested in a piece of software.  Thus, the more maintainable a piece of code is, the better it will be in the long run."
   ]
  },
  {
   "cell_type": "markdown",
   "metadata": {},
   "source": [
    "__Q21:__ Styles change and replacement windows are a quick way to update the look of a house. Modify your program so that the windows have a [different style](https://icon-library.net/icon/icon-for-window-18.html).  Note: all of the windows will have the same style, it should just be different than they were in __Q17__."
   ]
  },
  {
   "cell_type": "markdown",
   "metadata": {},
   "source": [
    "__Q22:__ What part(s) of your program did you modify in __Q21__? "
   ]
  },
  {
   "cell_type": "markdown",
   "metadata": {},
   "source": []
  },
  {
   "cell_type": "markdown",
   "metadata": {},
   "source": [
    " __Q23:__ Were the the modifications you made in __Q21__ limited to a small section of the program or were they spread across many parts of your program? "
   ]
  },
  {
   "cell_type": "markdown",
   "metadata": {},
   "source": []
  },
  {
   "cell_type": "markdown",
   "metadata": {},
   "source": []
  },
  {
   "cell_type": "markdown",
   "metadata": {},
   "source": [
    "__Q24:__ Explain how the use of functions main maintaining your program easier when the requirements changed (i.e. a new window style was desired)? "
   ]
  },
  {
   "cell_type": "markdown",
   "metadata": {},
   "source": []
  },
  {
   "cell_type": "markdown",
   "metadata": {},
   "source": [
    "### Problem Solving"
   ]
  },
  {
   "cell_type": "markdown",
   "metadata": {},
   "source": [
    "In the prior sections of this lab we saw that breaking programs into smaller functions, which each do just one thing, leads to code that is more *readable*, *reusable* and *maintainable*.\n",
    "\n",
    "Functions also help to facilitate *problem solving* by providing support for *problem decomposition*. Problem decomposition is the process of breaking a larger problems down into smaller, easier to solve, problems and then recombining the solution to the easier problems to solve the original problem.  The prior questions guided you through this process implicitly.  You created functions for drawing a building, a roof, a door and a window, and the `draw_house` function recombined those functions to draw the complete house.\n",
    "\n",
    "In this section you are given a task and you will apply the technique of *problem decomposition* to solve it."
   ]
  },
  {
   "cell_type": "markdown",
   "metadata": {},
   "source": [
    "__Q25:__ Decide on another element that you would like to add to the picture being drawn in your __house.py__ program.  This can be an additional feature of the house (e.g. a porch with pillars) or a separate element entirely (e.g. a tree, a car, a person, or whatever you can think up.) \n",
    "\n",
    "The element that you add must meet the following requirements:\n",
    "- It must contain at least three distinct parts (e.g. the house had a building, roof, door and windows).\n",
    "- At least one of those parts must be repeated in the element (e.g. the house had multiple windows).\n",
    "\n",
    "Draw a sketch of your new feature and include it as your answer to this question. "
   ]
  },
  {
   "cell_type": "markdown",
   "metadata": {},
   "source": []
  },
  {
   "cell_type": "markdown",
   "metadata": {},
   "source": [
    "__Q26:__ Use a bulleted list to identify the functions that will you define in order to draw your new picture element. For each function, briefly explain what it will do and parameters it will require."
   ]
  },
  {
   "cell_type": "markdown",
   "metadata": {},
   "source": []
  },
  {
   "cell_type": "markdown",
   "metadata": {},
   "source": [
    "__Q27:__ Implement the functions that draw your new picture element, and add statements to your program so that at it appears at least twice in the picture with the houses."
   ]
  },
  {
   "cell_type": "markdown",
   "metadata": {},
   "source": [
    "__Q28:__ Briefly reflect your your work in this section by addressing the following questions:\n",
    "- Did any of the functions or parameters that you identified in __Q26__ have to change to get things to work while you were implementing them in __Q27__?\n",
    "- Which of your functions is most likely to be reusable? Why?\n",
    "\n",
    "\n"
   ]
  }
 ],
 "metadata": {
  "kernelspec": {
   "display_name": "Python 3",
   "language": "python",
   "name": "python3"
  },
  "language_info": {
   "codemirror_mode": {
    "name": "ipython",
    "version": 3
   },
   "file_extension": ".py",
   "mimetype": "text/x-python",
   "name": "python",
   "nbconvert_exporter": "python",
   "pygments_lexer": "ipython3",
   "version": "3.7.3"
  }
 },
 "nbformat": 4,
 "nbformat_minor": 2
}
